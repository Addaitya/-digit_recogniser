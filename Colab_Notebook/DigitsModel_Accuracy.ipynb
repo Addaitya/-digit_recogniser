{
  "nbformat": 4,
  "nbformat_minor": 0,
  "metadata": {
    "colab": {
      "provenance": []
    },
    "kernelspec": {
      "name": "python3",
      "display_name": "Python 3"
    },
    "language_info": {
      "name": "python"
    }
  },
  "cells": [
    {
      "cell_type": "markdown",
      "source": [
        "## I Uploaded the my_model.keras to notebook"
      ],
      "metadata": {
        "id": "iJvypoRxzitA"
      }
    },
    {
      "cell_type": "code",
      "execution_count": 20,
      "metadata": {
        "id": "YBIuub85AiKJ"
      },
      "outputs": [],
      "source": [
        "import cv2\n",
        "import matplotlib.pyplot as plt\n",
        "from google.colab.patches import cv2_imshow\n",
        "import tensorflow as tf\n",
        "model = tf.keras.models.load_model('/content/my_model.keras')\n",
        "import numpy as np"
      ]
    },
    {
      "cell_type": "markdown",
      "source": [
        "## Uploaded digit images named 0.png, 1.png ..., 9.png from folder \"images_uploaded_on_notebook\" from tkinter app\n",
        "\n",
        "- In image 0 = black and 255 = white\n",
        "- The model requires black background and white digits"
      ],
      "metadata": {
        "id": "vdeUE8akzw5_"
      }
    },
    {
      "cell_type": "code",
      "source": [
        "# I made 10 images 0 to 9 in tkinter app and\n",
        "# uploaded here with file name 0.png, 1.png, ..., 9.png .\n",
        "\n",
        "x_test = []\n",
        "y_test = []\n",
        "\n",
        "for i in range(10):\n",
        "  img = cv2.imread(f'{i}.png', cv2.IMREAD_GRAYSCALE)\n",
        "  # img.shape = (28,28)\n",
        "  x_test.append(img)\n",
        "  y_test.append(i)\n",
        "\n",
        "x_test = np.array(x_test)\n",
        "y_test = np.array(y_test)\n",
        "x_test = x_test.reshape(x_test.shape[0], 28, 28, 1)\n",
        "x_test = x_test.astype('float32')\n",
        "x_test /= 255"
      ],
      "metadata": {
        "id": "VIUy0p5SXL7Z"
      },
      "execution_count": 21,
      "outputs": []
    },
    {
      "cell_type": "code",
      "source": [
        "loss, acc = model.evaluate(x_test, y_test, verbose=2)\n",
        "print(\"Restored model, accuracy: {:5.2f}%\".format(100 * acc))"
      ],
      "metadata": {
        "colab": {
          "base_uri": "https://localhost:8080/"
        },
        "id": "ZtaFsVlUYo3Y",
        "outputId": "16947743-d002-4c94-c9ea-5bab4f2f2c0e"
      },
      "execution_count": 23,
      "outputs": [
        {
          "output_type": "stream",
          "name": "stdout",
          "text": [
            "1/1 - 0s - loss: 4.0728 - accuracy: 0.5000 - 215ms/epoch - 215ms/step\n",
            "Restored model, accuracy: 50.00%\n"
          ]
        }
      ]
    },
    {
      "cell_type": "markdown",
      "source": [
        "Viewing images"
      ],
      "metadata": {
        "id": "uWnC9M-zzhgD"
      }
    },
    {
      "cell_type": "code",
      "source": [
        "plt.imshow(x_test[0].reshape(28, 28),cmap='Greys')"
      ],
      "metadata": {
        "colab": {
          "base_uri": "https://localhost:8080/",
          "height": 448
        },
        "id": "NE5WI9pD0kxY",
        "outputId": "ac288959-3d7d-43dd-fed7-51249f29cea2"
      },
      "execution_count": 26,
      "outputs": [
        {
          "output_type": "execute_result",
          "data": {
            "text/plain": [
              "<matplotlib.image.AxesImage at 0x7b6fd0863b20>"
            ]
          },
          "metadata": {},
          "execution_count": 26
        },
        {
          "output_type": "display_data",
          "data": {
            "text/plain": [
              "<Figure size 640x480 with 1 Axes>"
            ],
            "image/png": "[encoded data removed]"
          },
          "metadata": {}
        }
      ]
    }
  ]
}